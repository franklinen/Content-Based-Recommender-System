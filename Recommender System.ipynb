{
 "cells": [
  {
   "cell_type": "code",
   "execution_count": 24,
   "metadata": {
    "collapsed": true
   },
   "outputs": [],
   "source": [
    "import numpy\n",
    "from firebase import firebase"
   ]
  },
  {
   "cell_type": "code",
   "execution_count": 25,
   "metadata": {
    "collapsed": false
   },
   "outputs": [],
   "source": [
    "firebase = firebase.FirebaseApplication('https://lifestyleproject-8fccd.firebaseio.com/', None)\n",
    "result = firebase.get('/blog', None)"
   ]
  },
  {
   "cell_type": "code",
   "execution_count": 26,
   "metadata": {
    "collapsed": true
   },
   "outputs": [],
   "source": [
    "def get_nested(data, *args):\n",
    "    if args and data:\n",
    "        element  = args[0]\n",
    "        if element:\n",
    "            value = data.get(element)\n",
    "            return value if len(args) == 1 else get_nested(value, *args[1:])"
   ]
  },
  {
   "cell_type": "code",
   "execution_count": 68,
   "metadata": {
    "collapsed": false
   },
   "outputs": [],
   "source": [
    "#Format   BlogID :Title : Description : WeightLikeAverage  : Category\n",
    "\n",
    "#         UserID : DateOfBirth :  Sex  : Location \n",
    "\n",
    "#       UserID : BlogID (UserId * BlogId Table)\n",
    "import json\n",
    "import pandas as pd\n",
    "\n",
    "blog=pd.DataFrame()\n",
    "\n",
    "for key1,value1 in result.items():\n",
    "    for key2,value2 in value1.items():\n",
    "        try:\n",
    "            for key3,value3 in value2.items():\n",
    "#                 value3.get(\"description\")\n",
    "                df_temp = pd.DataFrame([[key3,value3.get(\"topic\"),key2,value3.get(\"description\")]])\n",
    "                blog=blog.append(df_temp,ignore_index=True)\n",
    "        except:\n",
    "            pass\n",
    "\n",
    "\n",
    "blog[3]=blog[3].fillna('')\n",
    "\n",
    "\n",
    "\n"
   ]
  },
  {
   "cell_type": "code",
   "execution_count": 69,
   "metadata": {
    "collapsed": false
   },
   "outputs": [
    {
     "data": {
      "text/html": [
       "<div>\n",
       "<table border=\"1\" class=\"dataframe\">\n",
       "  <thead>\n",
       "    <tr style=\"text-align: right;\">\n",
       "      <th></th>\n",
       "      <th>0</th>\n",
       "      <th>1</th>\n",
       "      <th>2</th>\n",
       "      <th>3</th>\n",
       "    </tr>\n",
       "  </thead>\n",
       "  <tbody>\n",
       "    <tr>\n",
       "      <th>0</th>\n",
       "      <td>-LN1O59IHezXNaRokb6u</td>\n",
       "      <td>6 Times Siddharth Malhotra Slayed With His On-...</td>\n",
       "      <td>Sponsored</td>\n",
       "      <td>Complete With The Right Choice Of Shoes, Of Co...</td>\n",
       "    </tr>\n",
       "    <tr>\n",
       "      <th>1</th>\n",
       "      <td>-LN1OIpNKvmefC-r8-fZ</td>\n",
       "      <td>10 Coolest Must-Have Linen Products For A Styl...</td>\n",
       "      <td>Sponsored</td>\n",
       "      <td>Get That Cool Dude Feel With Blackberrys Linen...</td>\n",
       "    </tr>\n",
       "    <tr>\n",
       "      <th>2</th>\n",
       "      <td>-LN1PNGEebkClqqpckii</td>\n",
       "      <td>Ways To Wear A Black Shirt</td>\n",
       "      <td>Tailored Clothes</td>\n",
       "      <td></td>\n",
       "    </tr>\n",
       "    <tr>\n",
       "      <th>3</th>\n",
       "      <td>-LN1PQ-DbdBlnv0mWQZL</td>\n",
       "      <td>Know How To Dress To Kill</td>\n",
       "      <td>Tailored Clothes</td>\n",
       "      <td>Style It Right</td>\n",
       "    </tr>\n",
       "    <tr>\n",
       "      <th>4</th>\n",
       "      <td>-LN1OMWYQaBbH-e_L9LK</td>\n",
       "      <td>The 10 Most Glamorous Ladies On The Cannes Red...</td>\n",
       "      <td>Entertainment</td>\n",
       "      <td>And Yet Again Deepika Padukone Rules The Red C...</td>\n",
       "    </tr>\n",
       "  </tbody>\n",
       "</table>\n",
       "</div>"
      ],
      "text/plain": [
       "                      0                                                  1  \\\n",
       "0  -LN1O59IHezXNaRokb6u  6 Times Siddharth Malhotra Slayed With His On-...   \n",
       "1  -LN1OIpNKvmefC-r8-fZ  10 Coolest Must-Have Linen Products For A Styl...   \n",
       "2  -LN1PNGEebkClqqpckii                         Ways To Wear A Black Shirt   \n",
       "3  -LN1PQ-DbdBlnv0mWQZL                         Know How To Dress To Kill    \n",
       "4  -LN1OMWYQaBbH-e_L9LK  The 10 Most Glamorous Ladies On The Cannes Red...   \n",
       "\n",
       "                  2                                                  3  \n",
       "0         Sponsored  Complete With The Right Choice Of Shoes, Of Co...  \n",
       "1         Sponsored  Get That Cool Dude Feel With Blackberrys Linen...  \n",
       "2  Tailored Clothes                                                     \n",
       "3  Tailored Clothes                                     Style It Right  \n",
       "4     Entertainment  And Yet Again Deepika Padukone Rules The Red C...  "
      ]
     },
     "execution_count": 69,
     "metadata": {},
     "output_type": "execute_result"
    }
   ],
   "source": [
    "blog.head()"
   ]
  },
  {
   "cell_type": "code",
   "execution_count": null,
   "metadata": {
    "collapsed": false
   },
   "outputs": [],
   "source": []
  },
  {
   "cell_type": "code",
   "execution_count": 70,
   "metadata": {
    "collapsed": true
   },
   "outputs": [],
   "source": [
    "from sklearn.feature_extraction.text import TfidfVectorizer\n",
    "\n",
    "tfidf = TfidfVectorizer(stop_words='english')"
   ]
  },
  {
   "cell_type": "code",
   "execution_count": 71,
   "metadata": {
    "collapsed": true
   },
   "outputs": [],
   "source": [
    "tfidf_matrix = tfidf.fit_transform(blog[3]) # transforming blog description"
   ]
  },
  {
   "cell_type": "code",
   "execution_count": 72,
   "metadata": {
    "collapsed": false
   },
   "outputs": [
    {
     "data": {
      "text/plain": [
       "(720, 1584)"
      ]
     },
     "execution_count": 72,
     "metadata": {},
     "output_type": "execute_result"
    }
   ],
   "source": [
    "tfidf_matrix.shape   #each blog descripton converted to 1584 word vector 1584 different words were used to describe blogs"
   ]
  },
  {
   "cell_type": "code",
   "execution_count": 73,
   "metadata": {
    "collapsed": true
   },
   "outputs": [],
   "source": [
    "from sklearn.metrics.pairwise import linear_kernel"
   ]
  },
  {
   "cell_type": "code",
   "execution_count": 74,
   "metadata": {
    "collapsed": true
   },
   "outputs": [],
   "source": [
    "cosine_sim = linear_kernel(tfidf_matrix, tfidf_matrix)"
   ]
  },
  {
   "cell_type": "code",
   "execution_count": 75,
   "metadata": {
    "collapsed": true
   },
   "outputs": [],
   "source": [
    "#Construct a reverse map of indices and blog topic\n",
    "indices = pd.Series(blog.index, index=blog[1]).drop_duplicates()"
   ]
  },
  {
   "cell_type": "code",
   "execution_count": 76,
   "metadata": {
    "collapsed": false,
    "scrolled": true
   },
   "outputs": [
    {
     "data": {
      "text/plain": [
       "1\n",
       "6 Times Siddharth Malhotra Slayed With His On-Screen Style                             0\n",
       "10 Coolest Must-Have Linen Products For A Stylish Summer                               1\n",
       "Ways To Wear A Black Shirt                                                             2\n",
       "Know How To Dress To Kill                                                              3\n",
       "The 10 Most Glamorous Ladies On The Cannes Red Carpet                                  4\n",
       "Pablo Escobar Or Demogorgon? Dress For Halloween As Your Favourite Character           5\n",
       "No Firecrackers? But Here's How You Can Be The Style Bomb This Diwali                  6\n",
       "The 10 Nakedest Looks From The 2017 Cannes Festival                                    7\n",
       "These Classy Aviators Are Exactly What You Need For A Sunny Afternoon                  8\n",
       "This SPF Day Protector Cream Is A Must If You're An Outdoorsy Guy                      9\n",
       "Noir De Noir Is The Smell Of Confidence                                               10\n",
       "This Wristwatch Is Literally The Only Accessory You Will Ever Need                    11\n",
       "This Aztec Cape Is A Must Buy For Any Festival Goer                                   12\n",
       "This Trolley Bag Is All You Need To Travel In Style                                   13\n",
       "This Masculine Perfume Is Just What You Need For A Long Night Out                     14\n",
       "A Summer Blazer Is A Must-Have In Every Guy's Closet                                  15\n",
       "The NMD Defines Comfort With Style                                                    16\n",
       "This Super-Cool Men's Driver Jacket Is Made With A British Sense Of Style             17\n",
       "Densifique Homme Will Solve All Your Hair-Related Problems                            18\n",
       "This Uber Cool Denim Jacket Is All You Need To Make A Style Statement                 19\n",
       "This Radio Bag Is What You Should Be Carrying Next                                    20\n",
       "This Limited Edition Pen Is Definitely A Collector's Choice                           21\n",
       "This Camouflage Print Backpack Is A Travel Essential                                  22\n",
       "The Messenger Bag That Doubles Up As A Backpack                                       23\n",
       "You Need To Buy This Essential Box For A Perfect Skincare Regime                      24\n",
       "These Espadrilles Should Be Your Classic Summer Footwear                              25\n",
       "This Is The Easiest Way You Can Put A Thread Into A Needle                            26\n",
       "ICYMI: Askmen’s Weekend Reading List                                                  27\n",
       "ICYMI: Askmen India’s Weekend Reading List                                            28\n",
       "ICYMI: Askmen’s Weekend Reading List                                                  29\n",
       "                                                                                    ... \n",
       "How To Make Your Shirt Look Funky AF?                                                690\n",
       "Malaika Arora Vacationing In California Is Every Travelista's Dream                  691\n",
       "Did You Ace Your Look On That First Date? Here's How She'll Judge You                692\n",
       "This Is How You Can Master Three Work- Looks With One Trouser                        693\n",
       "The Rock Finally Has His Own Signature Shoe                                          694\n",
       "AB De Villiers Launched Mont Blanc's UNICEF Collection                               695\n",
       "5 Things You Must Know Before Getting INKED                                          696\n",
       "7 Instagrammers You Need To Follow For Some Serious Style Inspiration                697\n",
       "Bored Of Your T-Shirts? Try Out This Zipper Edge DIY Hack                            698\n",
       "Here Are Three Ways To Style Your Cardigan                                           699\n",
       "4 Cool Shirt Hacks Every Guy Should Know                                             700\n",
       "4 Basic Accessories Every Gentleman Should Own                                       701\n",
       "The World's First Digital Supermodel Is Already Ruling The Internet                  702\n",
       "10 Red Carpet Looks To Give You Serious Style Inspo In Formal Wear                   703\n",
       "Lacoste Ditched Its Iconic Logo To Help Endangered Species                           704\n",
       "Tiger Shroff Is On Fire In These All-New Kicks                                       705\n",
       "Narendra Kumar Takes Us Through His Three Perfect Looks For Spring-Summer '18        706\n",
       "Here's How You Can Convert Your Old Tees To New Ones                                 707\n",
       "A Gentleman's Guide To Finding The Right Jeans For You                               708\n",
       "Louis Vuitton Launches Their First-Ever Line Of Men’s Perfume                        709\n",
       "WTF? Nike Plans To Launch Slippers With Zippers In Them                              710\n",
       "Round Eyewear Makes A Comeback With Ray Ban                                          711\n",
       "10 Jewellery Items Under 10k That Are Perfect Valentine Gifts                        712\n",
       "These New Limited Edition Ray-Ban Scuderia Ferrari Sunglasses Are On Our Cop List    713\n",
       "10 Items You Can Gift Your Mother This Mother's Day                                  714\n",
       "Let Your Hair Down                                                                   715\n",
       "Short Hairstyles For Balding Men                                                     716\n",
       "5 Hottest Hairstyles in 2015                                                         717\n",
       "Secrets to Healthy Hair for Indian Men                                               718\n",
       "Truefitt & Hill Expands Its Presence In Mumbai                                       719\n",
       "dtype: int64"
      ]
     },
     "execution_count": 76,
     "metadata": {},
     "output_type": "execute_result"
    }
   ],
   "source": [
    "indices"
   ]
  },
  {
   "cell_type": "code",
   "execution_count": 77,
   "metadata": {
    "collapsed": true
   },
   "outputs": [],
   "source": [
    "# Function that takes in blog title as input and outputs most similar blogs\n",
    "def get_recommendations(title, cosine_sim=cosine_sim):\n",
    "   \n",
    "    idx = indices[title]                            # Get the index of the movie that matches the title\n",
    "    \n",
    "    sim_scores = list(enumerate(cosine_sim[idx]))       # Get the pairwsie similarity scores of all blogs with that blog\n",
    "\n",
    "   \n",
    "    sim_scores = sorted(sim_scores, key=lambda x: x[1], reverse=True)       # Sort the blog based on the similarity scores\n",
    "    sim_scores = sim_scores[1:4]                               # Get the scores of the 3 most similar blog\n",
    "\n",
    "    blog_indices = [i[0] for i in sim_scores]                # Get the blog indices\n",
    "\n",
    "    \n",
    "    return blog[1].iloc[blog_indices]               # Return the top 10 most similar blog blog[1] is title"
   ]
  },
  {
   "cell_type": "code",
   "execution_count": 78,
   "metadata": {
    "collapsed": false
   },
   "outputs": [
    {
     "data": {
      "text/plain": [
       "621    7 Football Shoes From Adidas That're Inspired ...\n",
       "15     A Summer Blazer Is A Must-Have In Every Guy's ...\n",
       "35                         Handle Your Baldness In Style\n",
       "Name: 1, dtype: object"
      ]
     },
     "execution_count": 78,
     "metadata": {},
     "output_type": "execute_result"
    }
   ],
   "source": [
    "get_recommendations(\"10 Coolest Must-Have Linen Products For A Stylish Summer\")"
   ]
  },
  {
   "cell_type": "code",
   "execution_count": 79,
   "metadata": {
    "collapsed": false
   },
   "outputs": [
    {
     "data": {
      "text/plain": [
       "0                                 -LN1NyGO4BmSwPCk3Qk3\n",
       "1    7 Football Shoes From Adidas That're Inspired ...\n",
       "2                                                style\n",
       "3                                    How Cool Is That!\n",
       "Name: 621, dtype: object"
      ]
     },
     "execution_count": 79,
     "metadata": {},
     "output_type": "execute_result"
    }
   ],
   "source": [
    "blog.loc[621]"
   ]
  },
  {
   "cell_type": "code",
   "execution_count": 80,
   "metadata": {
    "collapsed": false
   },
   "outputs": [
    {
     "data": {
      "text/plain": [
       "0                                 -LN1OIpNKvmefC-r8-fZ\n",
       "1    10 Coolest Must-Have Linen Products For A Styl...\n",
       "2                                            Sponsored\n",
       "3    Get That Cool Dude Feel With Blackberrys Linen...\n",
       "Name: 1, dtype: object"
      ]
     },
     "execution_count": 80,
     "metadata": {},
     "output_type": "execute_result"
    }
   ],
   "source": [
    "blog.loc[1]"
   ]
  },
  {
   "cell_type": "markdown",
   "metadata": {},
   "source": [
    "# Making Dummy Data, No need to run this Just read likes.xlsx"
   ]
  },
  {
   "cell_type": "code",
   "execution_count": 129,
   "metadata": {
    "collapsed": true
   },
   "outputs": [],
   "source": [
    "testdf=pd.DataFrame(blogId)"
   ]
  },
  {
   "cell_type": "code",
   "execution_count": 130,
   "metadata": {
    "collapsed": false
   },
   "outputs": [],
   "source": [
    "import random\n",
    "Uid=[]\n",
    "for i in range(100):\n",
    "    Uid.append(\"+91\"+str(random.randint(6311326201,9911234567)))"
   ]
  },
  {
   "cell_type": "code",
   "execution_count": 131,
   "metadata": {
    "collapsed": false
   },
   "outputs": [],
   "source": [
    "def filler(j):\n",
    "    if j == 0 or j ==1 or j ==2: \n",
    "        return '' \n",
    "    else:\n",
    "        return random.randint(1,5)\n",
    "    "
   ]
  },
  {
   "cell_type": "code",
   "execution_count": 132,
   "metadata": {
    "collapsed": false
   },
   "outputs": [],
   "source": [
    "for i in range(100):\n",
    "    testdf[Uid[i]]=[ filler(random.randint(0,5)) for i in range(720)]"
   ]
  },
  {
   "cell_type": "code",
   "execution_count": 133,
   "metadata": {
    "collapsed": false
   },
   "outputs": [],
   "source": [
    "testdf.to_excel(\"Likes.xlsx\",index=False)"
   ]
  },
  {
   "cell_type": "markdown",
   "metadata": {},
   "source": [
    "# Read like.xlsx"
   ]
  },
  {
   "cell_type": "code",
   "execution_count": 138,
   "metadata": {
    "collapsed": true
   },
   "outputs": [],
   "source": [
    "def readUserMatrix():\n",
    "    # Returns dataframe\n",
    "    # Read from firebase \n",
    "    # for dummy\n",
    "    \n",
    "    return pd.read_excel(\"Likes.xlsx\")"
   ]
  },
  {
   "cell_type": "code",
   "execution_count": 139,
   "metadata": {
    "collapsed": false
   },
   "outputs": [],
   "source": [
    "UserData=readUserMatrix()"
   ]
  },
  {
   "cell_type": "code",
   "execution_count": 141,
   "metadata": {
    "collapsed": false
   },
   "outputs": [
    {
     "ename": "NameError",
     "evalue": "name 'CollabFilterDataset' is not defined",
     "output_type": "error",
     "traceback": [
      "\u001b[1;31m---------------------------------------------------------------------------\u001b[0m",
      "\u001b[1;31mNameError\u001b[0m                                 Traceback (most recent call last)",
      "\u001b[1;32m<ipython-input-141-1f8beb53fafc>\u001b[0m in \u001b[0;36m<module>\u001b[1;34m()\u001b[0m\n\u001b[0;32m      1\u001b[0m \u001b[1;31m# data loader\u001b[0m\u001b[1;33m\u001b[0m\u001b[1;33m\u001b[0m\u001b[0m\n\u001b[1;32m----> 2\u001b[1;33m \u001b[0mcf\u001b[0m \u001b[1;33m=\u001b[0m \u001b[0mCollabFilterDataset\u001b[0m\u001b[1;33m.\u001b[0m\u001b[0mfrom_csv\u001b[0m\u001b[1;33m(\u001b[0m\u001b[0mpath\u001b[0m\u001b[1;33m,\u001b[0m \u001b[1;34m'ratings_small.csv'\u001b[0m\u001b[1;33m,\u001b[0m \u001b[1;34m'userId'\u001b[0m\u001b[1;33m,\u001b[0m \u001b[1;34m'movieId'\u001b[0m\u001b[1;33m,\u001b[0m \u001b[1;34m'rating'\u001b[0m\u001b[1;33m)\u001b[0m\u001b[1;33m\u001b[0m\u001b[0m\n\u001b[0m",
      "\u001b[1;31mNameError\u001b[0m: name 'CollabFilterDataset' is not defined"
     ]
    }
   ],
   "source": [
    "# data loader\n",
    "cf = CollabFilterDataset.from_csv(path, 'ratings_small.csv', 'userId', 'movieId', 'rating')"
   ]
  },
  {
   "cell_type": "code",
   "execution_count": 149,
   "metadata": {
    "collapsed": false
   },
   "outputs": [
    {
     "name": "stdout",
     "output_type": "stream",
     "text": [
      " Volume in drive C is Windows\n",
      " Volume Serial Number is 54C1-B5DB\n",
      "\n",
      " Directory of C:\\Users\\HP\\PycharmProjects\\Recomender_system_notebook\n",
      "\n",
      "05-11-2018  03:07 AM    <DIR>          .\n",
      "05-11-2018  03:07 AM    <DIR>          ..\n",
      "04-11-2018  11:57 PM    <DIR>          .ipynb_checkpoints\n",
      "05-11-2018  03:07 AM               815 fastai.lnk\n",
      "05-11-2018  02:52 AM           124,577 Likes.xlsx\n",
      "05-11-2018  03:07 AM            23,445 Recommender System.ipynb\n",
      "               3 File(s)        148,837 bytes\n",
      "               3 Dir(s)  12,883,329,024 bytes free\n"
     ]
    }
   ],
   "source": [
    "!dir"
   ]
  },
  {
   "cell_type": "code",
   "execution_count": 20,
   "metadata": {
    "collapsed": false
   },
   "outputs": [
    {
     "ename": "ImportError",
     "evalue": "No module named 'torch'",
     "output_type": "error",
     "traceback": [
      "\u001b[1;31m---------------------------------------------------------------------------\u001b[0m",
      "\u001b[1;31mImportError\u001b[0m                               Traceback (most recent call last)",
      "\u001b[1;32m<ipython-input-20-4f88e7d04b06>\u001b[0m in \u001b[0;36m<module>\u001b[1;34m()\u001b[0m\n\u001b[1;32m----> 1\u001b[1;33m \u001b[1;32mimport\u001b[0m \u001b[0mtorch\u001b[0m\u001b[1;33m\u001b[0m\u001b[0m\n\u001b[0m\u001b[0;32m      2\u001b[0m \u001b[1;31m# This file contains all the main external libs we'll use\u001b[0m\u001b[1;33m\u001b[0m\u001b[1;33m\u001b[0m\u001b[0m\n\u001b[0;32m      3\u001b[0m \u001b[1;32mfrom\u001b[0m \u001b[0mfastai\u001b[0m\u001b[1;33m.\u001b[0m\u001b[0mimports\u001b[0m \u001b[1;32mimport\u001b[0m \u001b[1;33m*\u001b[0m\u001b[1;33m\u001b[0m\u001b[0m\n\u001b[0;32m      4\u001b[0m \u001b[1;33m\u001b[0m\u001b[0m\n\u001b[0;32m      5\u001b[0m \u001b[1;32mfrom\u001b[0m \u001b[0mfastai\u001b[0m\u001b[1;33m.\u001b[0m\u001b[0mlearner\u001b[0m \u001b[1;32mimport\u001b[0m \u001b[1;33m*\u001b[0m\u001b[1;33m\u001b[0m\u001b[0m\n",
      "\u001b[1;31mImportError\u001b[0m: No module named 'torch'"
     ]
    }
   ],
   "source": [
    "import torch\n",
    "# This file contains all the main external libs we'll use\n",
    "from fastai.imports import *\n",
    "\n",
    "from fastai.learner import *\n",
    "from fastai.column_data import *\n",
    "from fastai.transforms import *\n",
    "from fastai.conv_learner import *\n",
    "from fastai.model import *\n",
    "from fastai.dataset import *\n",
    "from fastai.sgdr import *\n",
    "from fastai.plots import *\n",
    "\n"
   ]
  },
  {
   "cell_type": "code",
   "execution_count": 8,
   "metadata": {
    "collapsed": false
   },
   "outputs": [],
   "source": [
    "import sys\n",
    "sys.path.append('fastai')"
   ]
  },
  {
   "cell_type": "code",
   "execution_count": 16,
   "metadata": {
    "collapsed": false
   },
   "outputs": [
    {
     "data": {
      "text/plain": [
       "['.ipynb_checkpoints', 'fastai', 'Likes.xlsx', 'Recommender System.ipynb']"
      ]
     },
     "execution_count": 16,
     "metadata": {},
     "output_type": "execute_result"
    }
   ],
   "source": [
    "import os\n",
    "os.listdir()"
   ]
  },
  {
   "cell_type": "code",
   "execution_count": 26,
   "metadata": {
    "collapsed": false
   },
   "outputs": [
    {
     "name": "stderr",
     "output_type": "stream",
     "text": [
      "The system cannot find the file specified.\n"
     ]
    }
   ],
   "source": [
    "!conda install pytorch<0.4\n",
    "# torchvision 0.2.1\n",
    "# torchtext 0.2.3\n",
    "# torch <0.4"
   ]
  },
  {
   "cell_type": "code",
   "execution_count": null,
   "metadata": {
    "collapsed": true
   },
   "outputs": [],
   "source": []
  }
 ],
 "metadata": {
  "anaconda-cloud": {},
  "kernelspec": {
   "display_name": "Python [Root]",
   "language": "python",
   "name": "Python [Root]"
  },
  "language_info": {
   "codemirror_mode": {
    "name": "ipython",
    "version": 3
   },
   "file_extension": ".py",
   "mimetype": "text/x-python",
   "name": "python",
   "nbconvert_exporter": "python",
   "pygments_lexer": "ipython3",
   "version": "3.5.2"
  }
 },
 "nbformat": 4,
 "nbformat_minor": 2
}
